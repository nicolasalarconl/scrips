{
 "cells": [
  {
   "cell_type": "code",
   "execution_count": 1,
   "id": "a1cc952c",
   "metadata": {},
   "outputs": [],
   "source": [
    "import random\n",
    "import cupy as cp\n",
    "#import numpy as cp\n",
    "from matplotlib import pyplot as plt"
   ]
  },
  {
   "cell_type": "code",
   "execution_count": 2,
   "id": "dea532d2",
   "metadata": {},
   "outputs": [],
   "source": [
    "class RandomImage:\n",
    "    def __init__(self,list_figures,index_random):\n",
    "        self.recursion = 0\n",
    "        self.list_figures = list_figures\n",
    "        self.index_random = cp.asnumpy(index_random).item(0)\n",
    "        #self.index_random = index_random\n",
    "        \n",
    "        self.percentage_info = list_figures.params.percentage_info\n",
    "        self.image = self.random_figure()\n",
    "        \n",
    "    def normalize(self,figure):\n",
    "        figure = figure - cp.min(figure)\n",
    "        if (cp.max(figure) == 0):\n",
    "            figure = figure/0.000001\n",
    "        else:\n",
    "            figure = figure/cp.max(figure)\n",
    "        return figure\n",
    "    \n",
    "    def random_operation(self,figure_a,figure_b):\n",
    "        random.seed(self.index_random)\n",
    "        self.index_random = self.index_random+1\n",
    "        operators = ['-','+','*']\n",
    "        operator = random.choice(operators)\n",
    "        if (operator == '+'):\n",
    "              figure_a = figure_b + figure_a\n",
    "        elif (operator == '*'):\n",
    "              figure_a = figure_b * figure_a\n",
    "        elif (operator == '-'):\n",
    "              figure_a = figure_b - figure_a\n",
    "        figure_a = self.normalize(figure_a)\n",
    "        return figure_a\n",
    "\n",
    "\n",
    "    def get_percentage_info(self,figure):\n",
    "        n = len(figure)\n",
    "        c = cp.sum(figure>0) \n",
    "        percentage=(c)/(n*n)\n",
    "        return percentage\n",
    "    \n",
    "    def isNull(self,figure):\n",
    "        if (self.get_percentage_info(figure) < self.percentage_info):\n",
    "            return True\n",
    "        return False\n",
    "    \n",
    "\n",
    "    def random_figure(self):\n",
    "        size_list_figure = self.list_figures.len_list()\n",
    "        random.seed(self.index_random)\n",
    "        random_index = random.randrange(0,size_list_figure-1,1);\n",
    "        final_figure = self.list_figures.data[random_index].data    \n",
    "        for figure in self.list_figures.data:\n",
    "                final_figure = self.random_operation(final_figure,figure.data)\n",
    "        final_figure_copy  = cp.copy(final_figure)\n",
    "        final_figure[final_figure_copy ==0]=0       \n",
    "        if (self.isNull(final_figure) == False):\n",
    "            final_figure = self.normalize(final_figure)\n",
    "            return final_figure\n",
    "        else:\n",
    "            self.recursion = self.recursion+1\n",
    "            self.index_random  = self.index_random + 100\n",
    "            return self.random_figure()        \n",
    "    def get(self):\n",
    "        return self.image\n",
    "\n",
    "    def view(self):\n",
    "        #plt.imshow(cp.asnumpy(self.image))\n",
    "        plt.imshow(self.image)\n",
    "\n",
    "\n",
    "        "
   ]
  },
  {
   "cell_type": "code",
   "execution_count": 26,
   "id": "630a9704",
   "metadata": {},
   "outputs": [
    {
     "data": {
      "image/png": "[encoded data removed]",
      "text/plain": [
       "<Figure size 432x288 with 1 Axes>"
      ]
     },
     "metadata": {
      "needs_background": "light"
     },
     "output_type": "display_data"
    }
   ],
   "source": [
    "#from listEllipses import ListEllipses\n",
    "#from paramsEllipses import ParamsEllipses\n",
    "#params= ParamsEllipses(100)\n",
    "#listEllipses = ListEllipses(params,10)\n",
    "#randomImage = RandomImage(listEllipses,99)\n",
    "#randomImage.view()"
   ]
  },
  {
   "cell_type": "code",
   "execution_count": null,
   "id": "c628f1d8",
   "metadata": {},
   "outputs": [],
   "source": []
  },
  {
   "cell_type": "code",
   "execution_count": null,
   "id": "0aee434e",
   "metadata": {},
   "outputs": [],
   "source": []
  }
 ],
 "metadata": {
  "kernelspec": {
   "display_name": "Python 3",
   "language": "python",
   "name": "python3"
  },
  "language_info": {
   "codemirror_mode": {
    "name": "ipython",
    "version": 3
   },
   "file_extension": ".py",
   "mimetype": "text/x-python",
   "name": "python",
   "nbconvert_exporter": "python",
   "pygments_lexer": "ipython3",
   "version": "3.9.2"
  }
 },
 "nbformat": 4,
 "nbformat_minor": 5
}
