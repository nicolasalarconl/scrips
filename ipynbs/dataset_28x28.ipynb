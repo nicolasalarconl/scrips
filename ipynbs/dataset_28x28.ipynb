{
 "cells": [
  {
   "cell_type": "code",
   "execution_count": 1,
   "id": "87dc9a2b",
   "metadata": {
    "scrolled": true
   },
   "outputs": [],
   "source": [
    "from simulator import Simulator\n",
    "import cupy as cp"
   ]
  },
  {
   "cell_type": "code",
   "execution_count": null,
   "id": "8eb0f6cc",
   "metadata": {},
   "outputs": [
    {
     "ename": "RecursionError",
     "evalue": "maximum recursion depth exceeded in comparison",
     "output_type": "error",
     "traceback": [
      "\u001b[0;31m---------------------------------------------------------------------------\u001b[0m",
      "\u001b[0;31mRecursionError\u001b[0m                            Traceback (most recent call last)",
      "\u001b[0;32mcupy/core/_reduction.pyx\u001b[0m in \u001b[0;36mcupy.core._reduction._SimpleReductionKernel._get_function\u001b[0;34m()\u001b[0m\n",
      "\u001b[0;32mcupy/_util.pyx\u001b[0m in \u001b[0;36mcupy._util.memoize.decorator.ret\u001b[0;34m()\u001b[0m\n",
      "\u001b[0;32mcupy/core/_kernel.pyx\u001b[0m in \u001b[0;36mcupy.core._kernel._ArgInfo.__eq__\u001b[0;34m()\u001b[0m\n",
      "\u001b[0;31mRecursionError\u001b[0m: maximum recursion depth exceeded in comparison"
     ]
    },
    {
     "name": "stderr",
     "output_type": "stream",
     "text": [
      "Exception ignored in: 'cupy.core._reduction._AbstractReductionKernel._launch'\n",
      "Traceback (most recent call last):\n",
      "  File \"cupy/core/_reduction.pyx\", line 601, in cupy.core._reduction._SimpleReductionKernel._get_function\n",
      "  File \"cupy/_util.pyx\", line 57, in cupy._util.memoize.decorator.ret\n",
      "  File \"cupy/core/_kernel.pyx\", line 194, in cupy.core._kernel._ArgInfo.__eq__\n",
      "RecursionError: maximum recursion depth exceeded in comparison\n"
     ]
    }
   ],
   "source": [
    "    x = Simulator().create_all(10,0,100,10)"
   ]
  },
  {
   "cell_type": "code",
   "execution_count": null,
   "id": "274911e0",
   "metadata": {},
   "outputs": [],
   "source": [
    "\n",
    "\n"
   ]
  }
 ],
 "metadata": {
  "kernelspec": {
   "display_name": "Python 3",
   "language": "python",
   "name": "python3"
  },
  "language_info": {
   "codemirror_mode": {
    "name": "ipython",
    "version": 3
   },
   "file_extension": ".py",
   "mimetype": "text/x-python",
   "name": "python",
   "nbconvert_exporter": "python",
   "pygments_lexer": "ipython3",
   "version": "3.9.2"
  }
 },
 "nbformat": 4,
 "nbformat_minor": 5
}
