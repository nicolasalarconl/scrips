{
 "cells": [
  {
   "cell_type": "code",
   "execution_count": null,
   "id": "3120509c",
   "metadata": {},
   "outputs": [],
   "source": [
    "class Graph:    \n",
    "    def train_loss_validation_loss_epoch(self,path_graph,train_loss,validation_loss):\n",
    "        AuxiliaryFunctions.make_dir(path_graph)\n",
    "        plt.figure()\n",
    "        plt.plot(train_loss)\n",
    "        plt.plot(validation_loss)\n",
    "        plt.title('Train Loss & Validation Loss')\n",
    "        plt.ylabel('Loss')\n",
    "        plt.xlabel('Epoch')\n",
    "        plt.savefig(path_graph+'/graph_loss_train_validation.png')\n",
    "        plt.show()\n",
    "\n",
    "    def psnr_test(self,path_graph,pnsr_1_list,pnsr_2_list,pnsr_3_list)   \n",
    "        plt.hist(pnsr_1_list,  linewidth=1, label ='clean-output')\n",
    "        plt.hist(pnsr_2_list,  linewidth=1, label = 'clean-dirty')\n",
    "        plt.hist(pnsr_3_list, linewidth=1, label = 'dirty-output')\n",
    "        plt.legend(loc='upper right')\n",
    "        plt.savefig(path_graph+'/graph_psnr.png')\n",
    "        plt.show()"
   ]
  }
 ],
 "metadata": {
  "kernelspec": {
   "display_name": "Python 3",
   "language": "python",
   "name": "python3"
  },
  "language_info": {
   "codemirror_mode": {
    "name": "ipython",
    "version": 3
   },
   "file_extension": ".py",
   "mimetype": "text/x-python",
   "name": "python",
   "nbconvert_exporter": "python",
   "pygments_lexer": "ipython3",
   "version": "3.8.5"
  }
 },
 "nbformat": 4,
 "nbformat_minor": 5
}
