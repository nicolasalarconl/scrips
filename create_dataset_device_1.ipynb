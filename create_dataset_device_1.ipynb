{
 "cells": [
  {
   "cell_type": "code",
   "execution_count": 1,
   "id": "7948fff4",
   "metadata": {},
   "outputs": [],
   "source": [
    "from simulator import Simulator\n",
    "import cupy as cp\n",
    "cp.cuda.Device(1).use()"
   ]
  },
  {
   "cell_type": "code",
   "execution_count": 4,
   "id": "87807c9b",
   "metadata": {},
   "outputs": [],
   "source": [
    "size_images = [1024,1280,1408,1920]\n",
    "size_data = [100,300,100,100]\n",
    "\n",
    "\n",
    "for index in range(0,len(size_images)): \n",
    "    x = Simulator().create_all(size_images[index],0,size_data[index],round(size_data[index]*0.1))"
   ]
  },
  {
   "cell_type": "code",
   "execution_count": null,
   "id": "e76f8aae",
   "metadata": {},
   "outputs": [],
   "source": []
  }
 ],
 "metadata": {
  "kernelspec": {
   "display_name": "Python 3",
   "language": "python",
   "name": "python3"
  },
  "language_info": {
   "codemirror_mode": {
    "name": "ipython",
    "version": 3
   },
   "file_extension": ".py",
   "mimetype": "text/x-python",
   "name": "python",
   "nbconvert_exporter": "python",
   "pygments_lexer": "ipython3",
   "version": "3.9.2"
  }
 },
 "nbformat": 4,
 "nbformat_minor": 5
}
