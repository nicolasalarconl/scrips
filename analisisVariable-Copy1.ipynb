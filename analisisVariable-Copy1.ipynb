{
 "cells": [
  {
   "cell_type": "code",
   "execution_count": 2,
   "id": "e964fb34",
   "metadata": {},
   "outputs": [],
   "source": [
    "import numpy as np\n",
    "from paramsEllipses import ParamsEllipses\n",
    "from datasetImages import DatasetImages\n",
    "from datasetDirty import DatasetDirty\n",
    "from matplotlib import pyplot as plt\n",
    "import cupy as cp\n",
    "PATH_GRAPH = '../analysisVariables'\n",
    "\n",
    "\n",
    "\n",
    "def graph(x,y,labelx,labely,sample,dataset_size,n):\n",
    "    plt.plot(x,y)\n",
    "    plt.axis([min(x), max(x), min(y), max(y)])\n",
    "    plt.xlabel(labelx)\n",
    "    plt.ylabel(labely)\n",
    "    plt.show()\n",
    "    plt.savefig(PATH_GRAPH+'/'+labelx+'_vs_'+labely+'_'+str(n)+'x'+str(n)+'_sample_'+str(sample)+'_dataset_size_'+str(dataset_size)+'.png')\n",
    "\n",
    "def graph_intensity(size_image,dataset_size,sample,list_intensity):\n",
    "    recursion_average = []\n",
    "    time_averange = []\n",
    "    for intensity in list_intensity:\n",
    "        params= ParamsEllipses(size_image,min_value_intensity = intensity)\n",
    "        recursion = 0\n",
    "        time = 0\n",
    "        for i in range (0,sample):\n",
    "            dataset = DatasetImages(dataset_size)\n",
    "            dataset.save(size_image =params.size_figure, params = params, start = 0,finish = dataset_size)\n",
    "            recursion = recursion + dataset.recursion_average()\n",
    "            time = time +dataset.time_averange()\n",
    "        recursion = recursion/sample\n",
    "        time = time/ sample\n",
    "        recursion_average.append(recursion)\n",
    "        time_averange.append(time)\n",
    "    graph(list_intensity,recursion_average,'minimum_intensity','average_recursion_per_image',sample,dataset_size,params.size_figure)\n",
    "    graph(list_intensity,time_averange,'minimum_intensity','average_time_per_image',sample,dataset_size,params.size_figure)\n",
    "\n",
    "    \n",
    "def graph_percentage_info(size_image,dataset_size,sample,list_percentage_info):\n",
    "    recursion_average = []\n",
    "    time_averange = []\n",
    "    for percentage_info in list_percentage_info:\n",
    "        params= ParamsEllipses(size_image,percentage_info = percentage_info)\n",
    "        recursion = 0\n",
    "        time = 0\n",
    "        for i in range (0,sample):\n",
    "            dataset = DatasetImages(dataset_size)\n",
    "            dataset.save(size_image =params.size_figure, params = params, start = 0,finish = dataset_size)\n",
    "            recursion = recursion + dataset.recursion_average()\n",
    "            time = time +dataset.time_averange()\n",
    "        recursion = recursion/sample\n",
    "        time = time/ sample\n",
    "        recursion_average.append(recursion)\n",
    "        time_averange.append(time)\n",
    "    graph(list_percentage_info,recursion_average,'percentage_info','average_recursion_per_image',sample,dataset_size,params.size_figure)\n",
    "    graph(list_percentage_info,time_averange,'percentage_info','average_time_per_image',sample,dataset_size,params.size_figure)\n",
    "\n",
    "    \n",
    "def graph_n_operation(size_image,dataset_size,sample,list_n_operation):\n",
    "    recursion_average = []\n",
    "    time_averange = []\n",
    "    for n_operation in list_n_operation:\n",
    "        params= ParamsEllipses(size_image,n_operation = n_operation)\n",
    "        recursion = 0\n",
    "        time = 0\n",
    "        for i in range (0,sample):\n",
    "            dataset = DatasetImages(dataset_size)\n",
    "            dataset.save(size_image =params.size_figure, params = params, start = 0,finish = dataset_size)\n",
    "            recursion = recursion + dataset.recursion_average()\n",
    "            time = time +dataset.time_averange()\n",
    "        recursion = recursion/sample\n",
    "        time = time/ sample\n",
    "        recursion_average.append(recursion)\n",
    "        time_averange.append(time)\n",
    "    graph(list_n_operation,recursion_average,'n_operation','average_recursion_per_image',sample,dataset_size,params.size_figure)\n",
    "    graph(list_n_operation,time_averange,'n_operation','average_time_per_image',sample,dataset_size,params.size_figure)\n",
    "\n",
    "\n",
    "def graph_size_sample(size_image,dataset_size,sample,list_size_sample):\n",
    "    recursion_average = []\n",
    "    time_averange = []\n",
    "    for size_sample in list_size_sample:\n",
    "        params= ParamsEllipses(size_image,size_sample = size_sample)\n",
    "        recursion = 0\n",
    "        time = 0\n",
    "        for i in range (0,sample):\n",
    "            dataset = DatasetImages(dataset_size)\n",
    "            dataset.save(size_image =params.size_figure, params = params, start = 0,finish = dataset_size)\n",
    "            recursion = recursion + dataset.recursion_average()\n",
    "            time = time +dataset.time_averange()\n",
    "        recursion = recursion/sample\n",
    "        time = time/ sample\n",
    "        recursion_average.append(recursion)\n",
    "        time_averange.append(time)\n",
    "    graph(list_size_sample,recursion_average,'size_sample','average_recursion_per_image',sample,dataset_size,params.size_figure)\n",
    "    graph(list_size_sample,time_averange,'size_sample','average_time_per_image',sample,dataset_size,params.size_figure)\n",
    "\n",
    "    \n",
    "def graph_size_figure(dataset_size,sample,list_size_figure):\n",
    "    recursion_average = []\n",
    "    time_averange = []\n",
    "    for size_figure in list_size_figure:\n",
    "        params= ParamsEllipses(size_figure)\n",
    "        recursion = 0\n",
    "        time = 0\n",
    "        for i in range (0,sample):\n",
    "            dataset = DatasetImages(dataset_size)\n",
    "            dataset.save(size_image =params.size_figure, params = params, start = 0,finish = dataset_size)\n",
    "            recursion = recursion + dataset.recursion_average()\n",
    "            time = time +dataset.time_averange()\n",
    "        recursion = recursion/sample\n",
    "        time = time/ sample\n",
    "        recursion_average.append(recursion)\n",
    "        time_averange.append(time)\n",
    "    graph(list_size_figure,recursion_average,'size_figure','average_recursion_per_image',sample,dataset_size,params.size_figure)\n",
    "    graph(list_size_figure,time_averange,'size_figure','average_time_per_image',sample,dataset_size,params.size_figure)\n",
    "\n",
    "def gauss(tamX,tamY,div):\n",
    "    x, y = cp.meshgrid(cp.linspace(-1,1,tamX), cp.linspace(-1,1,tamY))\n",
    "    d = cp.sqrt(x*x+y*y)\n",
    "    sigma, mu = 1/div, 0.0\n",
    "    gauss = cp.exp(-( (d-mu)**2 / ( 2.0 * sigma**2 ) ) )\n",
    "    return gauss\n",
    "    \n",
    "def graph_size_figure_conv(dataset_size,sample,list_size_figure):\n",
    "    time_averange = []\n",
    "    for size_figure in list_size_figure:\n",
    "        params= ParamsEllipses(size_figure)\n",
    "        time = 0\n",
    "        for i in range (0,sample):\n",
    "            dataset = DatasetImages(dataset_size)\n",
    "            images = dataset.save(size_image =params.size_figure, params = params, start = 0,finish = dataset_size)\n",
    "            type_psf = 'psf_gauss_'+str(size_figure)+'x'+str(size_figure)\n",
    "            psf = gauss(size_figure,size_figure,size_figure/2)\n",
    "            dirty = DatasetDirty(N,images,type_psf,psf)\n",
    "            dirty.save(dataset.images,size_figure,type_psf,psf,start = 0 ,finish = 10)\n",
    "            time = time +dirty.time_averange()\n",
    "        time = time/sample\n",
    "        time_averange.append(time)\n",
    "    graph(list_size_figure,time_averange,'size_figure','average_time_per_image',sample,dataset_size,params.size_figure)\n"
   ]
  },
  {
   "cell_type": "code",
   "execution_count": 3,
   "id": "019865c0",
   "metadata": {},
   "outputs": [],
   "source": [
    "DATA_SET_SIZE = 10\n",
    "N = 28\n",
    "SAMPLE = 10"
   ]
  },
  {
   "cell_type": "code",
   "execution_count": null,
   "id": "abd4bf84",
   "metadata": {},
   "outputs": [],
   "source": [
    "list_intensity = np.arange(0.01,0.6,0.01)\n",
    "graph_intensity(N,DATA_SET_SIZE,SAMPLE,list_intensity)"
   ]
  },
  {
   "cell_type": "code",
   "execution_count": 4,
   "id": "ee7657f1",
   "metadata": {},
   "outputs": [
    {
     "name": "stderr",
     "output_type": "stream",
     "text": [
      "WARNING: AstropyDeprecationWarning: \"clobber\" was deprecated in version 2.0 and will be removed in a future version. Use argument \"overwrite\" instead. [datasetImages]\n"
     ]
    },
    {
     "data": {
      "image/png": "[encoded data removed]",
      "text/plain": [
       "<Figure size 432x288 with 1 Axes>"
      ]
     },
     "metadata": {
      "needs_background": "light"
     },
     "output_type": "display_data"
    },
    {
     "data": {
      "image/png": "[encoded data removed]",
      "text/plain": [
       "<Figure size 432x288 with 1 Axes>"
      ]
     },
     "metadata": {
      "needs_background": "light"
     },
     "output_type": "display_data"
    },
    {
     "data": {
      "text/plain": [
       "<Figure size 432x288 with 0 Axes>"
      ]
     },
     "metadata": {},
     "output_type": "display_data"
    }
   ],
   "source": [
    "list_percentage_info = np.arange(0.005,0.01,0.001)\n",
    "graph_percentage_info(N,DATA_SET_SIZE,SAMPLE,list_percentage_info)"
   ]
  },
  {
   "cell_type": "code",
   "execution_count": null,
   "id": "e76fa678",
   "metadata": {},
   "outputs": [],
   "source": [
    "list_n_operation = np.arange(10,100,10)\n",
    "graph_n_operation(N,DATA_SET_SIZE,SAMPLE,list_n_operation)\n"
   ]
  },
  {
   "cell_type": "code",
   "execution_count": null,
   "id": "d84451c1",
   "metadata": {},
   "outputs": [],
   "source": [
    "list_size_sample = np.arange(10,100,10)\n",
    "graph_size_sample(N,DATA_SET_SIZE,SAMPLE,list_size_sample)\n"
   ]
  },
  {
   "cell_type": "code",
   "execution_count": null,
   "id": "b2bcf833",
   "metadata": {},
   "outputs": [],
   "source": [
    "list_size_figure = np.array([28,64,128,256,512,1024,1920])\n",
    "graph_size_figure(DATA_SET_SIZE,SAMPLE,list_size_figure)\n"
   ]
  },
  {
   "cell_type": "code",
   "execution_count": null,
   "id": "ca2eed9c",
   "metadata": {},
   "outputs": [],
   "source": [
    "list_size_figure = np.array([28,64,128,256,512,1024,1920])\n",
    "graph_size_figure_conv(DATA_SET_SIZE,SAMPLE,list_size_figure)\n"
   ]
  }
 ],
 "metadata": {
  "kernelspec": {
   "display_name": "Python 3",
   "language": "python",
   "name": "python3"
  },
  "language_info": {
   "codemirror_mode": {
    "name": "ipython",
    "version": 3
   },
   "file_extension": ".py",
   "mimetype": "text/x-python",
   "name": "python",
   "nbconvert_exporter": "python",
   "pygments_lexer": "ipython3",
   "version": "3.9.1+"
  }
 },
 "nbformat": 4,
 "nbformat_minor": 5
}
