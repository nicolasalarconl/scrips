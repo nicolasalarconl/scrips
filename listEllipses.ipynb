{
 "cells": [
  {
   "cell_type": "code",
   "execution_count": 1,
   "id": "115fb5ba",
   "metadata": {},
   "outputs": [],
   "source": [
    "from ellipse import Ellipse\n",
    "import numpy as cp"
   ]
  },
  {
   "cell_type": "code",
   "execution_count": 4,
   "id": "a4219269",
   "metadata": {},
   "outputs": [],
   "source": [
    "class ListEllipses:\n",
    "    def __init__(self,params):\n",
    "        self.params = params\n",
    "        self.list_sample_params = self.create_list_sample_params() \n",
    "        self.data =self.create_list_ellipses()\n",
    "\n",
    "    def len_list_params(self):\n",
    "        return self.params.size_sample\n",
    "    \n",
    "    def len_list(self):\n",
    "        return len(self.data)\n",
    "\n",
    "    \n",
    "    def get_percentage_info(self,figure):\n",
    "        n = len(figure)\n",
    "        c = cp.sum(figure>0)  \n",
    "        percentage=(c)/(n*n)\n",
    "        return percentage\n",
    "    \n",
    "    def is_null(self,figure):\n",
    "        if (self.get_percentage_info(figure) < self.params.percentage_info):\n",
    "            return True\n",
    "        return False\n",
    "\n",
    "    def create_ellipse(self,parameter):\n",
    "        size_figure,axis_minor,axis_major,min_value_intensity, max_value_intensity,mov_x,moy_y,angle,sigma = parameter\n",
    "        return Ellipse(size_figure,axis_minor,axis_major,min_value_intensity, max_value_intensity,mov_x,moy_y,angle,sigma)\n",
    "    \n",
    "    def create_list_sample_params(self):\n",
    "        list_sample_params = []\n",
    "        for i in range (0,self.len_list_params()):\n",
    "            params = self.params.get_params_random()\n",
    "            list_sample_params.append(params) \n",
    "        return list_sample_params\n",
    "    \n",
    "    def create_list_ellipses(self):\n",
    "        ellipses = []\n",
    "        for i in range(0,self.len_list_params()):\n",
    "            ellipse = self.create_ellipse(self.list_sample_params[i])\n",
    "            if(self.is_null(ellipse.data) == False):\n",
    "                ellipses.append(ellipse)\n",
    "        return ellipses\n",
    "    \n",
    "    def view(self):\n",
    "        if(self.len_list() > 0):\n",
    "            index = random.randrange(0,self.len_list()-1,1)\n",
    "            ellipse_random = self.data[index]\n",
    "            ellipse_random.view()\n",
    "        else:\n",
    "            print(\"error\")\n",
    "                 \n",
    "    def view(self,index = None):\n",
    "        if  (index == None):\n",
    "            index = 1\n",
    "        if (self.len_list() <= index):\n",
    "            print(\"index out of bounds, index max: \"+str(self.len_list()-1))\n",
    "        else:\n",
    "            self.data[index].view()\n"
   ]
  },
  {
   "cell_type": "code",
   "execution_count": 7,
   "id": "ad6b32b2",
   "metadata": {},
   "outputs": [],
   "source": [
    "#from paramsEllipses import ParamsEllipses\n",
    "#list_Ellipses= ListEllipses(ParamsEllipses(120))\n",
    "#list_Ellipses.view()"
   ]
  }
 ],
 "metadata": {
  "kernelspec": {
   "display_name": "Python 3",
   "language": "python",
   "name": "python3"
  },
  "language_info": {
   "codemirror_mode": {
    "name": "ipython",
    "version": 3
   },
   "file_extension": ".py",
   "mimetype": "text/x-python",
   "name": "python",
   "nbconvert_exporter": "python",
   "pygments_lexer": "ipython3",
   "version": "3.9.1+"
  }
 },
 "nbformat": 4,
 "nbformat_minor": 5
}
