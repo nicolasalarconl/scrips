{
 "cells": [
  {
   "cell_type": "code",
   "execution_count": 1,
   "id": "6a5a9eac",
   "metadata": {},
   "outputs": [],
   "source": [
    "from datasetImages import DatasetImages\n",
    "from datasetPSF import DatasetPSF\n",
    "from datasetDirty import DatasetDirty\n",
    "from paramsEllipses import ParamsEllipses\n",
    "import numpy as cp\n",
    "\n",
    "class Simulator:\n",
    "    def psf_gauss(self,tamX,tamY):\n",
    "        x, y = cp.meshgrid(cp.linspace(-1,1,tamX), cp.linspace(-1,1,tamY))\n",
    "        d = cp.sqrt(x*x+y*y)\n",
    "        sigma, mu = 1/(tamX/2), 0.0\n",
    "        gauss = cp.exp(-( (d-mu)**2 / ( 2.0 * sigma**2 ) ) )\n",
    "        return gauss\n",
    "    \n",
    "    def psf_real(self,size):\n",
    "        type_psf = 'psf_real_'+str(size)+'x'+str(size)\n",
    "        url = 'https://github.com/nicolasalarconl/InterferometryDeepLearning/blob/main/4_hd142_128x128_08.psf.fits?raw=true'\n",
    "        psf = DatasetPSF(size).read_url(size,type_psf,url)\n",
    "        return DatasetPSF(size).resize(psf,size)\n",
    "        \n",
    "    \n",
    "    def create_all(self,size,start,finish,step):\n",
    "    \n",
    "        list_index = cp.arange(int(start),int(finish),int(step))\n",
    "        for index in list_index[0:len(list_index)-2]:\n",
    "            params = ParamsEllipses(size)\n",
    "            dataset = DatasetImages(size)\n",
    "            dataset.save(size_image =params.size_figure, params = params,start = index,finish =index+step-1)\n",
    "        type_psf = 'psf_gauss_'+str(params.size_figure)+'x'+str(params.size_figure)\n",
    "        psf_gauss = self.psf_gauss(params.size_figure,params.size_figure)\n",
    "        psf = DatasetPSF(size)\n",
    "        psf.save(size_image=params.size_figure,type_psf=type_psf,psf= psf_gauss)\n",
    "        psf_gauss = psf.image\n",
    "        \n",
    "        list_index = cp.arange(start,finish,step)\n",
    "        for index in list_index:\n",
    "            if (index != list_index[len(list_index)-1]):\n",
    "                dataset = DatasetImages(size)\n",
    "                images = dataset.read(params.size_figure,start = index,finish =index+step)\n",
    "                dirty_gauss = DatasetDirty(size)\n",
    "                dirty_gauss.save(images,params.size_figure,type_psf,psf_gauss,start = index ,finish = index+step-1)\n",
    "        type_psf = 'psf_real_'+str(params.size_figure)+'x'+str(params.size_figure)\n",
    "        psf_real = self.psf_real(params.size_figure)\n",
    "        psf = DatasetPSF(size)\n",
    "        psf.save(size_image=params.size_figure,type_psf=type_psf,psf= psf_real)\n",
    "        psf_real = psf.image \n",
    "        list_index = cp.arange(start,finish,step)\n",
    "        for index in list_index:\n",
    "            if (index != list_index[len(list_index)-1]):\n",
    "                dataset = DatasetImages(size)\n",
    "                images = dataset.read(params.size_figure,start = index,finish =index+step)\n",
    "                dirty_gauss = DatasetDirty(size)\n",
    "                dirty_gauss.save(images,params.size_figure,type_psf,psf_gauss,start = index ,finish = index+step-1)\n",
    "\n",
    "        \n",
    "\n",
    "        \n",
    "        "
   ]
  },
  {
   "cell_type": "code",
   "execution_count": 2,
   "id": "372f65d3",
   "metadata": {},
   "outputs": [],
   "source": [
    "#x = Simulator().create_all(28,0,10)"
   ]
  },
  {
   "cell_type": "code",
   "execution_count": 3,
   "id": "4d35c620",
   "metadata": {},
   "outputs": [
    {
     "data": {
      "image/png": "[encoded data removed]",
      "text/plain": [
       "<Figure size 432x288 with 1 Axes>"
      ]
     },
     "metadata": {
      "needs_background": "light"
     },
     "output_type": "display_data"
    }
   ],
   "source": [
    "#images = DatasetImages(11)\n",
    "#images.read(size_image=11, start = 0,finish = 10)\n",
    "#images.view()"
   ]
  },
  {
   "cell_type": "code",
   "execution_count": 7,
   "id": "a39da013",
   "metadata": {},
   "outputs": [
    {
     "data": {
      "image/png": "[encoded data removed]",
      "text/plain": [
       "<Figure size 432x288 with 1 Axes>"
      ]
     },
     "metadata": {
      "needs_background": "light"
     },
     "output_type": "display_data"
    }
   ],
   "source": [
    "#psf_gauss = DatasetPSF()\n",
    "#psf_gauss.read(11,'psf_gauss_11x11')\n",
    "#psf_gauss.view()"
   ]
  },
  {
   "cell_type": "code",
   "execution_count": 8,
   "id": "60e179ce",
   "metadata": {},
   "outputs": [
    {
     "data": {
      "image/png": "[encoded data removed]",
      "text/plain": [
       "<Figure size 432x288 with 1 Axes>"
      ]
     },
     "metadata": {
      "needs_background": "light"
     },
     "output_type": "display_data"
    }
   ],
   "source": [
    "#psf_real = DatasetPSF()\n",
    "#psf_real.read(11,'psf_real_11x11')\n",
    "#psf_real.view()\n",
    "#psf_real.view()"
   ]
  },
  {
   "cell_type": "code",
   "execution_count": 9,
   "id": "e9264905",
   "metadata": {},
   "outputs": [
    {
     "data": {
      "image/png": "[encoded data removed]",
      "text/plain": [
       "<Figure size 432x288 with 1 Axes>"
      ]
     },
     "metadata": {
      "needs_background": "light"
     },
     "output_type": "display_data"
    }
   ],
   "source": [
    "#dirty = DatasetDirty(11,'psf_real_11x11')\n",
    "#dirty.read(11,'psf_real_11x11',start = 0, finish= 10)\n",
    "#dirty.view_dirty()\n"
   ]
  },
  {
   "cell_type": "code",
   "execution_count": null,
   "id": "042744a1",
   "metadata": {},
   "outputs": [],
   "source": []
  }
 ],
 "metadata": {
  "kernelspec": {
   "display_name": "Python 3",
   "language": "python",
   "name": "python3"
  },
  "language_info": {
   "codemirror_mode": {
    "name": "ipython",
    "version": 3
   },
   "file_extension": ".py",
   "mimetype": "text/x-python",
   "name": "python",
   "nbconvert_exporter": "python",
   "pygments_lexer": "ipython3",
   "version": "3.9.1+"
  }
 },
 "nbformat": 4,
 "nbformat_minor": 5
}
