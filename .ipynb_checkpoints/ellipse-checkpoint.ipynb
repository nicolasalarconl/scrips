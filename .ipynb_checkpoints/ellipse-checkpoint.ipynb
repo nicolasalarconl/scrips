{
 "cells": [
  {
   "cell_type": "code",
   "execution_count": 1,
   "id": "c653acba",
   "metadata": {},
   "outputs": [],
   "source": [
    "from paramsEllipses import ParamsEllipses\n",
    "import cupy as cp\n",
    "from matplotlib import pyplot as plt"
   ]
  },
  {
   "cell_type": "code",
   "execution_count": 14,
   "id": "442db2fb",
   "metadata": {},
   "outputs": [],
   "source": [
    "class Ellipse:   \n",
    "    def __init__(self, size,axis_minor, axis_major,min_intensity,max_intensity,mov_x,mov_y,angle,sigma):\n",
    "        self.data = self.__get__(size,axis_minor,axis_major,min_intensity,max_intensity,mov_x,mov_y,angle,sigma);\n",
    "    \n",
    "    \n",
    "    def normalize(self,figure):\n",
    "        figure = figure - cp.min(figure)\n",
    "        if (cp.max == 0):\n",
    "            figure = figure/0.000001\n",
    "        else:\n",
    "            figure = figure/cp.max(figure)\n",
    "        return figure\n",
    "    \n",
    "    def __get__(self,size,axis_minor, axis_major,min_intensity,max_intensity,mov_x,mov_y,angle,sigma):\n",
    "        X=cp.reshape(cp.arange(0,size),(1,size))\n",
    "        X=cp.reshape(cp.arange(0,size),(1,size))\n",
    "        Y=cp.reshape(cp.arange(0,size),(size,1))\n",
    "        X=X-size/2 + mov_x\n",
    "        X=X-size/2 + mov_x\n",
    "        Y=Y-size/2 + mov_y\n",
    "        c=cp.cos(angle)\n",
    "        s=cp.sin(angle)\n",
    "        XX=X*c + Y*s # para no sobre-escribir X\n",
    "        YY=X*s - Y*c\n",
    "        X=XX\n",
    "        Y=YY\n",
    "        Z=cp.sqrt(((X/axis_minor)**2+((Y/axis_major)**2)))\n",
    "        Z= cp.exp(-Z**2/2/sigma**2)\n",
    "        ZZ =cp.copy(Z)\n",
    "        Z[ZZ<min_intensity]=0\n",
    "        Z[ZZ>max_intensity]=0\n",
    "        Z=self.normalize(Z)\n",
    "        return Z\n",
    "    \n",
    "    def view(self):\n",
    "        plt.imshow(cp.asnumpy(self.data))"
   ]
  },
  {
   "cell_type": "code",
   "execution_count": 16,
   "id": "9ce5bb02",
   "metadata": {},
   "outputs": [],
   "source": [
    "#from paramsEllipses import ParamsEllipses \n",
    "#params= ParamsEllipses(128)\n",
    "#size_figure,axis_minor,axis_major,min_value_intensity, max_value_intensity,mov_x,moy_y,angle,sigma= params.get_params_random(1)\n",
    "#elipse= Ellipse(size_figure,axis_minor,axis_major,min_value_intensity, max_value_intensity,mov_x,moy_y,angle,sigma )\n",
    "#elipse.view()"
   ]
  }
 ],
 "metadata": {
  "kernelspec": {
   "display_name": "Python 3",
   "language": "python",
   "name": "python3"
  },
  "language_info": {
   "codemirror_mode": {
    "name": "ipython",
    "version": 3
   },
   "file_extension": ".py",
   "mimetype": "text/x-python",
   "name": "python",
   "nbconvert_exporter": "python",
   "pygments_lexer": "ipython3",
   "version": "3.9.2"
  }
 },
 "nbformat": 4,
 "nbformat_minor": 5
}
