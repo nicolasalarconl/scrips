{
 "cells": [
  {
   "cell_type": "code",
   "execution_count": 8,
   "id": "115fb5ba",
   "metadata": {},
   "outputs": [],
   "source": [
    "from ellipse import Ellipse\n",
    "#import cupy as cp\n",
    "import numpy as cp"
   ]
  },
  {
   "cell_type": "code",
   "execution_count": 13,
   "id": "a4219269",
   "metadata": {},
   "outputs": [],
   "source": [
    "class ListEllipses:\n",
    "    def __init__(self,params,index_random):\n",
    "        self.params = params\n",
    "        self.data =self.create_list_ellipses(index_random)\n",
    "        self.recursion = 0\n",
    "    def len_list_params(self):\n",
    "        return self.params.size_sample\n",
    "    \n",
    "    def len_list(self):\n",
    "        return len(self.data)\n",
    "\n",
    "    def get_percentage_info(self,figure):\n",
    "        n = len(figure)\n",
    "        c = cp.sum(figure>0)  \n",
    "        percentage=(c)/(n*n)\n",
    "        return percentage\n",
    "    \n",
    "    def is_null(self,figure):\n",
    "        if (self.get_percentage_info(figure) < self.params.percentage_info):\n",
    "            return True\n",
    "        return False\n",
    "\n",
    "    def create_ellipse(self,parameter):\n",
    "        size_figure,axis_minor,axis_major,min_value_intensity, max_value_intensity,mov_x,moy_y,angle,sigma = parameter\n",
    "        return Ellipse(size_figure,axis_minor,axis_major,min_value_intensity, max_value_intensity,mov_x,moy_y,angle,sigma)\n",
    "        \n",
    "    def sample_params(self,index_random):\n",
    "            params = self.params.get_params_random(index_random)\n",
    "            ellipse = self.create_ellipse(params)\n",
    "            if(self.is_null(ellipse.data) == False):\n",
    "                return ellipse\n",
    "            else:\n",
    "                self.recursion = self.recursion+1\n",
    "                return self.sample_params(index_random+1000000000)\n",
    "     \n",
    "    def create_list_ellipses(self,index_random):\n",
    "        ellipses = []\n",
    "        self.recursion = 0\n",
    "        for i in range(0,self.len_list_params()):\n",
    "            ellipse = self.sample_params(index_random)\n",
    "            index_random = index_random+i\n",
    "            ellipses.append(ellipse)\n",
    "        return ellipses\n",
    "    \n",
    "    def view(self):\n",
    "        if(self.len_list() > 0):\n",
    "            index = random.randrange(0,self.len_list()-1,1)\n",
    "            ellipse_random = self.data[index]\n",
    "            ellipse_random.view()\n",
    "        else:\n",
    "            print(\"error\")\n",
    "                 \n",
    "    def view(self,index = None):\n",
    "        if  (index == None):\n",
    "            index = 1\n",
    "        if (self.len_list() <= index):\n",
    "            print(\"index out of bounds, index max: \"+str(self.len_list()-1))\n",
    "        else:\n",
    "            self.data[index].view()\n"
   ]
  },
  {
   "cell_type": "code",
   "execution_count": 14,
   "id": "ad6b32b2",
   "metadata": {},
   "outputs": [],
   "source": [
    "#from paramsEllipses import ParamsEllipses\n",
    "#list_Ellipses= ListEllipses(ParamsEllipses(500),1000000)\n",
    "#list_Ellipses.view(99)"
   ]
  },
  {
   "cell_type": "code",
   "execution_count": null,
   "id": "d8b18b0e",
   "metadata": {},
   "outputs": [],
   "source": []
  },
  {
   "cell_type": "code",
   "execution_count": null,
   "id": "e653f32d",
   "metadata": {},
   "outputs": [],
   "source": []
  }
 ],
 "metadata": {
  "kernelspec": {
   "display_name": "Python 3",
   "language": "python",
   "name": "python3"
  },
  "language_info": {
   "codemirror_mode": {
    "name": "ipython",
    "version": 3
   },
   "file_extension": ".py",
   "mimetype": "text/x-python",
   "name": "python",
   "nbconvert_exporter": "python",
   "pygments_lexer": "ipython3",
   "version": "3.8.5"
  }
 },
 "nbformat": 4,
 "nbformat_minor": 5
}
