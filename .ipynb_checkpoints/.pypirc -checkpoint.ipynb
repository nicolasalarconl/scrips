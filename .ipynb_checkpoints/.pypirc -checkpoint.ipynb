{
 "cells": [
  {
   "cell_type": "code",
   "execution_count": null,
   "id": "be6f2f22",
   "metadata": {},
   "outputs": [],
   "source": [
    "[distutils]\n",
    "    index-servers =\n",
    "        pypi\n",
    "\n",
    "    [pypi]\n",
    "    repository: https://pypi.python.org/pypi\n",
    "    username: {{nicolasalarconl}}\n",
    "    password: {{jaba504020a}}\n"
   ]
  }
 ],
 "metadata": {
  "kernelspec": {
   "display_name": "Python 3",
   "language": "python",
   "name": "python3"
  },
  "language_info": {
   "codemirror_mode": {
    "name": "ipython",
    "version": 3
   },
   "file_extension": ".py",
   "mimetype": "text/x-python",
   "name": "python",
   "nbconvert_exporter": "python",
   "pygments_lexer": "ipython3",
   "version": "3.9.2"
  }
 },
 "nbformat": 4,
 "nbformat_minor": 5
}
