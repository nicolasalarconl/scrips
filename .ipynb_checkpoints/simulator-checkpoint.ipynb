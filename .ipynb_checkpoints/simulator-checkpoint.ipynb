{
 "cells": [
  {
   "cell_type": "code",
   "execution_count": 1,
   "id": "6a5a9eac",
   "metadata": {},
   "outputs": [],
   "source": [
    "from datasetImages import DatasetImages\n",
    "from datasetPSF import DatasetPSF\n",
    "from datasetDirty import DatasetDirty\n",
    "from paramsEllipses import ParamsEllipses\n",
    "#import cupy as cp\n",
    "import numpy as cp\n",
    "\n",
    "class Simulator:\n",
    "    def psf_gauss(self,tamX,tamY):\n",
    "        x, y = cp.meshgrid(cp.linspace(-1,1,tamX), cp.linspace(-1,1,tamY))\n",
    "        d = cp.sqrt(x*x+y*y)\n",
    "        sigma, mu = 1/(tamX/2), 0.0\n",
    "        gauss = cp.exp(-( (d-mu)**2 / ( 2.0 * sigma**2 ) ) )\n",
    "        return gauss\n",
    "    \n",
    "    def psf_real(self,size):\n",
    "        type_psf = 'psf_real_'+str(size)+'x'+str(size)\n",
    "        url = 'https://github.com/nicolasalarconl/InterferometryDeepLearning/blob/main/4_hd142_128x128_08.psf.fits?raw=true'\n",
    "        psf = DatasetPSF(size,type_psf).read_url(size,type_psf,url)\n",
    "        return DatasetPSF(size,type_psf).resize(psf,size)\n",
    "        \n",
    "    \n",
    "    def create_all(self,size,start,finish,step):\n",
    "        list_index = cp.arange(int(start),int(finish),int(step))\n",
    "        for index in list_index:    \n",
    "            params = ParamsEllipses(size)\n",
    "            dataset = DatasetImages(size)\n",
    "            dataset.save(size_image =params.size_figure, params = params,start = index,stop =index+step)\n",
    "            \n",
    "            type_psf = 'psf_gauss_'+str(params.size_figure)+'x'+str(params.size_figure)\n",
    "            psf_gauss = self.psf_gauss(params.size_figure,params.size_figure)\n",
    "            psf = DatasetPSF(size,type_psf)\n",
    "            psf.save(size_image=params.size_figure,type_psf=type_psf,psf= psf_gauss)\n",
    "            psf_gauss = psf.image\n",
    "        \n",
    "            images = dataset.read(params.size_figure,start = index,stop =index+step)\n",
    "            dirty_gauss = DatasetDirty(size,type_psf)\n",
    "            dirty_gauss.save(images,params.size_figure,type_psf,psf_gauss,start = index ,finish = index+step)\n",
    "        \n",
    "            type_psf = 'psf_real_'+str(params.size_figure)+'x'+str(params.size_figure)\n",
    "            psf_real = self.psf_real(params.size_figure)\n",
    "            psf = DatasetPSF(size,type_psf)\n",
    "            psf.save(size_image=params.size_figure,type_psf=type_psf,psf= psf_real)\n",
    "            psf_real = psf.image \n",
    "         \n",
    "            dirty_gauss = DatasetDirty(size,type_psf)\n",
    "            dirty_gauss.save(images,params.size_figure,type_psf,psf_gauss,start = index ,finish = index+step)\n",
    "\n",
    "        \n",
    "           \n",
    "        \n",
    "        "
   ]
  },
  {
   "cell_type": "code",
   "execution_count": null,
   "id": "4d35c620",
   "metadata": {},
   "outputs": [],
   "source": [
    "N = 550\n",
    "x = Simulator().create_all(N,0,4,2)"
   ]
  },
  {
   "cell_type": "code",
   "execution_count": null,
   "id": "6db7595a",
   "metadata": {},
   "outputs": [],
   "source": [
    "images = DatasetImages(N)\n",
    "_ = images.read(size_image=N, start = 0,stop = 10)\n",
    "\n",
    "type_psf_gauss = 'psf_gauss_'+str(N)+'x'+str(N)\n",
    "psf_gauss = DatasetPSF(N,type_psf_gauss)\n",
    "_ =psf_gauss.read(N,type_psf_gauss)\n",
    "\n",
    "\n",
    "type_psf_real = 'psf_real_'+str(N)+'x'+str(N)\n",
    "psf_real = DatasetPSF(N,type_psf_real)\n",
    "_ = psf_real.read(N,type_psf_real)\n",
    "\n",
    "dirtys_gauss = DatasetDirty(N,type_psf_gauss)\n",
    "_ =dirtys_gauss.read(size_image = N, type_psf = type_psf_gauss,start = 0, stop = 10)\n",
    "\n",
    "dirtys_real = DatasetDirty(N,type_psf_gauss)\n",
    "_ = dirtys_real.read(size_image = N, type_psf = type_psf_real,start = 0, stop = 10)\n"
   ]
  },
  {
   "cell_type": "code",
   "execution_count": null,
   "id": "042744a1",
   "metadata": {},
   "outputs": [],
   "source": [
    "images.view(0)"
   ]
  },
  {
   "cell_type": "code",
   "execution_count": null,
   "id": "a25af121",
   "metadata": {},
   "outputs": [],
   "source": [
    "psf_gauss.view()"
   ]
  },
  {
   "cell_type": "code",
   "execution_count": null,
   "id": "2864b7ee",
   "metadata": {},
   "outputs": [],
   "source": [
    "psf_real.view()"
   ]
  },
  {
   "cell_type": "code",
   "execution_count": null,
   "id": "1418751b",
   "metadata": {},
   "outputs": [],
   "source": [
    "dirtys_real.view(0)"
   ]
  },
  {
   "cell_type": "code",
   "execution_count": null,
   "id": "7aee88f1",
   "metadata": {},
   "outputs": [],
   "source": [
    "images.view(1)"
   ]
  },
  {
   "cell_type": "code",
   "execution_count": null,
   "id": "67b4d62c",
   "metadata": {},
   "outputs": [],
   "source": [
    "psf_gauss.view()"
   ]
  },
  {
   "cell_type": "code",
   "execution_count": null,
   "id": "4ff9399e",
   "metadata": {},
   "outputs": [],
   "source": [
    "psf_real.view()"
   ]
  },
  {
   "cell_type": "code",
   "execution_count": null,
   "id": "81538dcb",
   "metadata": {},
   "outputs": [],
   "source": [
    "dirtys_real.view(1)"
   ]
  }
 ],
 "metadata": {
  "kernelspec": {
   "display_name": "Python 3",
   "language": "python",
   "name": "python3"
  },
  "language_info": {
   "codemirror_mode": {
    "name": "ipython",
    "version": 3
   },
   "file_extension": ".py",
   "mimetype": "text/x-python",
   "name": "python",
   "nbconvert_exporter": "python",
   "pygments_lexer": "ipython3",
   "version": "3.8.5"
  }
 },
 "nbformat": 4,
 "nbformat_minor": 5
}
