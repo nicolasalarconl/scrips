{
 "cells": [
  {
   "cell_type": "code",
   "execution_count": 1,
   "id": "87dc9a2b",
   "metadata": {
    "scrolled": true
   },
   "outputs": [],
   "source": [
    "from simulator import Simulator\n",
    "import cupy as cp\n",
    "cp.cuda.Device(0).use()\n",
    "#import numpy as cp"
   ]
  },
  {
   "cell_type": "code",
   "execution_count": 2,
   "id": "cb3c9fe0",
   "metadata": {},
   "outputs": [
    {
     "name": "stderr",
     "output_type": "stream",
     "text": [
      "WARNING: AstropyDeprecationWarning: \"clobber\" was deprecated in version 2.0 and will be removed in a future version. Use argument \"overwrite\" instead. [datasetPSF]\n",
      "WARNING: AstropyDeprecationWarning: \"clobber\" was deprecated in version 2.0 and will be removed in a future version. Use argument \"overwrite\" instead. [datasetDirty]\n"
     ]
    }
   ],
   "source": [
    "size_images = [25]\n",
    "size_data = [100]\n",
    "for index in range(0,len(size_images)): \n",
    "        x = Simulator().create_all(size_images[index],0,size_data[index],round(size_data[index]*0.1))"
   ]
  },
  {
   "cell_type": "code",
   "execution_count": null,
   "id": "c1fa13f5",
   "metadata": {},
   "outputs": [],
   "source": []
  }
 ],
 "metadata": {
  "kernelspec": {
   "display_name": "Python 3",
   "language": "python",
   "name": "python3"
  },
  "language_info": {
   "codemirror_mode": {
    "name": "ipython",
    "version": 3
   },
   "file_extension": ".py",
   "mimetype": "text/x-python",
   "name": "python",
   "nbconvert_exporter": "python",
   "pygments_lexer": "ipython3",
   "version": "3.9.2"
  }
 },
 "nbformat": 4,
 "nbformat_minor": 5
}
