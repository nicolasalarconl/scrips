{
 "cells": [
  {
   "cell_type": "code",
   "execution_count": 1,
   "id": "591b110a",
   "metadata": {},
   "outputs": [],
   "source": [
    "from model import Model\n",
    "from autoencoder import Autoencoder24 as net28\n",
    "from autoencoder import Autoencoder64 as net64\n",
    "import torch.nn as nn\n",
    "import torch.optim as optim\n",
    "import cupy as cp\n",
    "from auxiliaryFunctions import AuxiliaryFunctions"
   ]
  },
  {
   "cell_type": "code",
   "execution_count": 2,
   "id": "192bf233",
   "metadata": {},
   "outputs": [
    {
     "ename": "TypeError",
     "evalue": "__init__() missing 1 required positional argument: 'size'",
     "output_type": "error",
     "traceback": [
      "\u001b[0;31m---------------------------------------------------------------------------\u001b[0m",
      "\u001b[0;31mTypeError\u001b[0m                                 Traceback (most recent call last)",
      "\u001b[0;32m<ipython-input-2-94475ff2c244>\u001b[0m in \u001b[0;36m<module>\u001b[0;34m\u001b[0m\n\u001b[1;32m      5\u001b[0m \u001b[0mstart\u001b[0m \u001b[0;34m=\u001b[0m \u001b[0;36m0\u001b[0m\u001b[0;34m\u001b[0m\u001b[0;34m\u001b[0m\u001b[0m\n\u001b[1;32m      6\u001b[0m \u001b[0mcriterion\u001b[0m \u001b[0;34m=\u001b[0m \u001b[0mnn\u001b[0m\u001b[0;34m.\u001b[0m\u001b[0mMSELoss\u001b[0m\u001b[0;34m(\u001b[0m\u001b[0;34m)\u001b[0m \u001b[0;31m## definir si esto va a variar o fijarlo!\u001b[0m\u001b[0;34m\u001b[0m\u001b[0;34m\u001b[0m\u001b[0m\n\u001b[0;32m----> 7\u001b[0;31m \u001b[0mnet\u001b[0m \u001b[0;34m=\u001b[0m \u001b[0mnet28\u001b[0m\u001b[0;34m(\u001b[0m\u001b[0;34m)\u001b[0m\u001b[0;34m\u001b[0m\u001b[0;34m\u001b[0m\u001b[0m\n\u001b[0m\u001b[1;32m      8\u001b[0m \u001b[0moptimizer\u001b[0m \u001b[0;34m=\u001b[0m \u001b[0moptim\u001b[0m\u001b[0;34m.\u001b[0m\u001b[0mAdam\u001b[0m\u001b[0;34m(\u001b[0m\u001b[0mnet\u001b[0m\u001b[0;34m.\u001b[0m\u001b[0mparameters\u001b[0m\u001b[0;34m(\u001b[0m\u001b[0;34m)\u001b[0m\u001b[0;34m,\u001b[0m \u001b[0mlr\u001b[0m\u001b[0;34m=\u001b[0m\u001b[0mlearning_rate\u001b[0m\u001b[0;34m)\u001b[0m \u001b[0;31m### QUIZAS NO ES UN PARAMETRo DE ENTRADA!\u001b[0m\u001b[0;34m\u001b[0m\u001b[0;34m\u001b[0m\u001b[0m\n\u001b[1;32m      9\u001b[0m \u001b[0mdatasets\u001b[0m \u001b[0;34m=\u001b[0m \u001b[0;34m[\u001b[0m\u001b[0;36m1000\u001b[0m\u001b[0;34m,\u001b[0m\u001b[0;36m10000\u001b[0m\u001b[0;34m,\u001b[0m\u001b[0;36m50000\u001b[0m\u001b[0;34m,\u001b[0m\u001b[0;36m100000\u001b[0m\u001b[0;34m]\u001b[0m \u001b[0;31m###\u001b[0m\u001b[0;34m\u001b[0m\u001b[0;34m\u001b[0m\u001b[0m\n",
      "\u001b[0;31mTypeError\u001b[0m: __init__() missing 1 required positional argument: 'size'"
     ]
    }
   ],
   "source": [
    "size_figure = 28\n",
    "type_psf_gauss = 'psf_gauss_'+str(size_figure)+'x'+str(size_figure)\n",
    "type_psf_real = 'psf_real_'+str(size_figure)+'x'+str(size_figure)\n",
    "learning_rate = 1e-3 \n",
    "start = 0 \n",
    "criterion = nn.MSELoss() ## definir si esto va a variar o fijarlo! \n",
    "net = net28()  \n",
    "optimizer = optim.Adam(net.parameters(), lr=learning_rate) ### QUIZAS NO ES UN PARAMETRo DE ENTRADA! \n",
    "datasets = [1000,10000,50000,100000] ###\n",
    "            ##VER HASTA CAUNDO y HACER COSA DINAMICA AQUI .....\n",
    "            ## leer un fit y en memoria y cachar hasta cuanto te da ... y luego crear un \n",
    "            ## % arange salto de 10% ??..        \n",
    "# Dejar esto fijo ##\n",
    "batchs = [10,50,100]\n",
    "epochs = [10,30,50]\n",
    "types =  [type_psf_gauss,type_psf_real]\n",
    "#######################\n",
    "index = 0 \n",
    "size_save = 1\n",
    "device = 1\n",
    "for stop in datasets:\n",
    "    for batch_train in batchs:\n",
    "        for num_epochs in epochs:\n",
    "            for type_psf in types:\n",
    "                index = index +1\n",
    "                print('modelo '+str(index)+':')\n",
    "                m = Model(size_figure = size_figure,\n",
    "                                    type_psf = type_psf,\n",
    "                                    num_epochs = num_epochs,\n",
    "                                    learning_rate =  learning_rate , \n",
    "                                    batch_train = batch_train ,\n",
    "                                    start = start,\n",
    "                                    stop = stop,\n",
    "                                    criterion = criterion,\n",
    "                                    optimizer = optimizer,\n",
    "                                    device = device\n",
    "                ) \n",
    "                net = m.run_train_data(net = net,start = 0 , stop = stop)\n",
    "                net = m.run_test_data(net = net,start = 0, stop = stop,size_save = size_save)\n",
    "                #m.get_resumen(net= net,idx = 0)"
   ]
  },
  {
   "cell_type": "code",
   "execution_count": null,
   "id": "41edc6c9",
   "metadata": {},
   "outputs": [],
   "source": []
  }
 ],
 "metadata": {
  "kernelspec": {
   "display_name": "Python 3",
   "language": "python",
   "name": "python3"
  },
  "language_info": {
   "codemirror_mode": {
    "name": "ipython",
    "version": 3
   },
   "file_extension": ".py",
   "mimetype": "text/x-python",
   "name": "python",
   "nbconvert_exporter": "python",
   "pygments_lexer": "ipython3",
   "version": "3.9.2"
  }
 },
 "nbformat": 4,
 "nbformat_minor": 5
}
