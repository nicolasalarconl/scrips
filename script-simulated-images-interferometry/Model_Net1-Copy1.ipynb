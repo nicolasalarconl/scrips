{
 "cells": [
  {
   "cell_type": "code",
   "execution_count": 1,
   "id": "2def3d70",
   "metadata": {},
   "outputs": [
    {
     "name": "stdout",
     "output_type": "stream",
     "text": [
      "0.033187999999999995\n"
     ]
    }
   ],
   "source": [
    "from model import Model\n",
    "from autoencoder import Autoencoder1 as net1\n",
    "import cupy as cp\n",
    "from auxiliaryFunctions import AuxiliaryFunctions\n",
    "import torch \n",
    "\n",
    "\n",
    "#from pytorch_modelsize import SizeEstimator\n",
    "\n",
    "architecture_name = 'autoencoder1'\n",
    "device = 0\n",
    "size_figure = 640\n",
    "type_psf_gauss = 'psf_gauss_'+str(size_figure)+'x'+str(size_figure)\n",
    "type_psf_real = 'psf_real_'+str(size_figure)+'x'+str(size_figure)\n",
    "types =  [type_psf_gauss,type_psf_real]\n",
    "\n",
    "k1 = 3,\n",
    "p1 = 1,\n",
    "k2 = 3,\n",
    "p2 = 1,\n",
    "k3 = 3,\n",
    "p3 = 1,\n",
    "k4 = 3,\n",
    "p4 = 1,\n",
    "k5 = 3,\n",
    "s1 = 2,\n",
    "k6 = 3,\n",
    "s2 = 2,\n",
    "k7 = 3,\n",
    "s3 = 2,\n",
    "k8 = 3,\n",
    "s4 = 2\n",
    "out_in = 32\n",
    "\n",
    "\n",
    "\n",
    "def get_parameter_sizes(model):\n",
    "        '''Get sizes of all parameters in `model`'''\n",
    "        mods = list(model.modules())\n",
    "        sizes = []\n",
    "        for i in range(1,len(mods)):\n",
    "            m = mods[i]\n",
    "            p = list(m.parameters())\n",
    "            for j in range(len(p)):\n",
    "                sizes.append(cp.array(p[j].size()))\n",
    "        return sizes\n",
    "        \n",
    "def calc_param_bits(model):\n",
    "        total_bits = 0\n",
    "        bits = 32\n",
    "        params_sizes =  get_parameter_sizes(model)\n",
    "        for i in range(len(params_sizes)):\n",
    "            s = params_sizes[i]\n",
    "            bits = cp.prod(cp.array(s))*32\n",
    "            total_bits += bits\n",
    "        total_megabytes = (total_bits*1.25e-7)\n",
    "        print(total_megabytes)\n",
    "    \n",
    "net = net1(size = size_figure,\n",
    "           device = device,\n",
    "           out_in = out_in,\n",
    "           k1=k1,p1=p1,k2=k2,p2=p2,k3=k3,p3=p3,k4=k4,p4=p4,\n",
    "           k5=k5,s1=s1,k6=k6,s2=s2,k7=k7,s3=s3,k8=k8,s4=s4\n",
    "        )  \n",
    "calc_param_bits(net)\n",
    "#batchs = 3#,1,128]\n",
    "#se = SizeEstimator(net, input_size=(batchs,1,size_figure,size_figure))\n",
    "##print(se.estimate_size())\n",
    "\n",
    "\n",
    "\n",
    "\n"
   ]
  },
  {
   "cell_type": "code",
   "execution_count": 2,
   "id": "6a60025b",
   "metadata": {},
   "outputs": [
    {
     "data": {
      "text/plain": [
       "\"datasets = [1000]\\nbatchs = [3]#,1,128]\\nepochs = [10]\\nlearning_rates = [1e-3]#,1e-4,1e-5]\\ncombinations = len(datasets)*len(batchs)*len(epochs)*len(learning_rates)\\n# agregar mas capas por que el in_out no puede ser muy grande, calcular esto..#\\nindex = 1\\n\\nfor type_psf in types:\\n    for learning_rate in learning_rates:\\n        for stop in datasets:\\n            for batch_train in batchs:\\n                for num_epochs in epochs:\\n                    print('start model :'+str(index)+'/'+str(combinations))\\n                    #torch.cuda.empty_cache()\\n                    m = Model(size_figure = size_figure,\\n                                        type_psf = type_psf,\\n                                        num_epochs = num_epochs,\\n                                        learning_rate =  learning_rate , \\n                                        batch_train = batch_train ,\\n                                        start = 0,\\n                                        stop = stop,\\n                                        device = device,\\n                                        architecture_name = architecture_name,\\n                                        net = net           \\n                    ) \\n                    print('...train model')\\n                    #net =m.run_train_data(net = net,start = 0 , stop = stop)\\n                    #print('...test model')\\n                    #net = m.run_test_data(net = net,start = 0, stop = stop,size_save = 1)\\n                    #print('finish model:'+str(index)+'/'+str(combinations))\\n                    #index = index +1\\n                    #m.get_resumen(net= net,idx = 0)\""
      ]
     },
     "execution_count": 2,
     "metadata": {},
     "output_type": "execute_result"
    }
   ],
   "source": [
    "\n",
    "'''datasets = [1000]\n",
    "batchs = [3]#,1,128]\n",
    "epochs = [10]\n",
    "learning_rates = [1e-3]#,1e-4,1e-5]\n",
    "combinations = len(datasets)*len(batchs)*len(epochs)*len(learning_rates)\n",
    "# agregar mas capas por que el in_out no puede ser muy grande, calcular esto..#\n",
    "index = 1\n",
    "\n",
    "for type_psf in types:\n",
    "    for learning_rate in learning_rates:\n",
    "        for stop in datasets:\n",
    "            for batch_train in batchs:\n",
    "                for num_epochs in epochs:\n",
    "                    print('start model :'+str(index)+'/'+str(combinations))\n",
    "                    #torch.cuda.empty_cache()\n",
    "                    m = Model(size_figure = size_figure,\n",
    "                                        type_psf = type_psf,\n",
    "                                        num_epochs = num_epochs,\n",
    "                                        learning_rate =  learning_rate , \n",
    "                                        batch_train = batch_train ,\n",
    "                                        start = 0,\n",
    "                                        stop = stop,\n",
    "                                        device = device,\n",
    "                                        architecture_name = architecture_name,\n",
    "                                        net = net           \n",
    "                    ) \n",
    "                    print('...train model')\n",
    "                    #net =m.run_train_data(net = net,start = 0 , stop = stop)\n",
    "                    #print('...test model')\n",
    "                    #net = m.run_test_data(net = net,start = 0, stop = stop,size_save = 1)\n",
    "                    #print('finish model:'+str(index)+'/'+str(combinations))\n",
    "                    #index = index +1\n",
    "                    #m.get_resumen(net= net,idx = 0)'''"
   ]
  },
  {
   "cell_type": "code",
   "execution_count": 3,
   "id": "7b8736b5",
   "metadata": {},
   "outputs": [],
   "source": [
    "#https://pytorch.org/tutorials/beginner/former_torchies/parallelism_tutorial.html\n",
    "#device multiple model.."
   ]
  },
  {
   "cell_type": "code",
   "execution_count": 4,
   "id": "1b80c316",
   "metadata": {},
   "outputs": [],
   "source": [
    "# calcular el tamaño y una formula para saber.\n",
    "\n"
   ]
  },
  {
   "cell_type": "code",
   "execution_count": 5,
   "id": "fecb377b",
   "metadata": {},
   "outputs": [],
   "source": [
    "# agregar mas capas para imagens mas grandes..#"
   ]
  },
  {
   "cell_type": "code",
   "execution_count": null,
   "id": "7ae09f0a",
   "metadata": {},
   "outputs": [],
   "source": []
  },
  {
   "cell_type": "code",
   "execution_count": null,
   "id": "3f5d66ae",
   "metadata": {},
   "outputs": [],
   "source": []
  }
 ],
 "metadata": {
  "kernelspec": {
   "display_name": "Python 3",
   "language": "python",
   "name": "python3"
  },
  "language_info": {
   "codemirror_mode": {
    "name": "ipython",
    "version": 3
   },
   "file_extension": ".py",
   "mimetype": "text/x-python",
   "name": "python",
   "nbconvert_exporter": "python",
   "pygments_lexer": "ipython3",
   "version": "3.9.2"
  }
 },
 "nbformat": 4,
 "nbformat_minor": 5
}
