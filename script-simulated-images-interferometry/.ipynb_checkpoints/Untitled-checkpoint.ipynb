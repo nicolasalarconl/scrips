{
 "cells": [
  {
   "cell_type": "code",
   "execution_count": null,
   "id": "46d4ba11",
   "metadata": {},
   "outputs": [],
   "source": [
    "from simulator import Simulator\n",
    "Simulator.create_save(size = 640,start = 0,stop = 10000,step = 1000, device = 1)"
   ]
  },
  {
   "cell_type": "code",
   "execution_count": null,
   "id": "664ae49a",
   "metadata": {},
   "outputs": [],
   "source": [
    "from simulator import Simulator\n",
    "Simulator.create_save(size = 1024,start = 0,stop = 2500,step = 100, device = 1)"
   ]
  }
 ],
 "metadata": {
  "kernelspec": {
   "display_name": "Python 3",
   "language": "python",
   "name": "python3"
  },
  "language_info": {
   "codemirror_mode": {
    "name": "ipython",
    "version": 3
   },
   "file_extension": ".py",
   "mimetype": "text/x-python",
   "name": "python",
   "nbconvert_exporter": "python",
   "pygments_lexer": "ipython3",
   "version": "3.9.2"
  }
 },
 "nbformat": 4,
 "nbformat_minor": 5
}
