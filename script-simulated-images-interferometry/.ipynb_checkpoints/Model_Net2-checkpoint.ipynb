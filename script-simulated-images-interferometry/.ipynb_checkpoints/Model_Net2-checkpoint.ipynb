{
 "cells": [
  {
   "cell_type": "code",
   "execution_count": 1,
   "id": "a56f0fe3",
   "metadata": {},
   "outputs": [
    {
     "ename": "NameError",
     "evalue": "name 'net1' is not defined",
     "output_type": "error",
     "traceback": [
      "\u001b[0;31m---------------------------------------------------------------------------\u001b[0m",
      "\u001b[0;31mNameError\u001b[0m                                 Traceback (most recent call last)",
      "\u001b[0;32m<ipython-input-1-b92b6abfd7f8>\u001b[0m in \u001b[0;36m<module>\u001b[0;34m\u001b[0m\n\u001b[1;32m     12\u001b[0m \u001b[0mlearning_rate\u001b[0m \u001b[0;34m=\u001b[0m \u001b[0;36m1e-3\u001b[0m\u001b[0;34m\u001b[0m\u001b[0;34m\u001b[0m\u001b[0m\n\u001b[1;32m     13\u001b[0m \u001b[0mcriterion\u001b[0m \u001b[0;34m=\u001b[0m \u001b[0mnn\u001b[0m\u001b[0;34m.\u001b[0m\u001b[0mMSELoss\u001b[0m\u001b[0;34m(\u001b[0m\u001b[0;34m)\u001b[0m \u001b[0;31m## definir si esto va a variar o fijarlo!\u001b[0m\u001b[0;34m\u001b[0m\u001b[0;34m\u001b[0m\u001b[0m\n\u001b[0;32m---> 14\u001b[0;31m \u001b[0mnet\u001b[0m \u001b[0;34m=\u001b[0m \u001b[0mnet1\u001b[0m\u001b[0;34m(\u001b[0m\u001b[0msize\u001b[0m \u001b[0;34m=\u001b[0m \u001b[0msize_figure\u001b[0m\u001b[0;34m,\u001b[0m\u001b[0mdevice\u001b[0m \u001b[0;34m=\u001b[0m \u001b[0mdevice\u001b[0m\u001b[0;34m)\u001b[0m\u001b[0;34m\u001b[0m\u001b[0;34m\u001b[0m\u001b[0m\n\u001b[0m\u001b[1;32m     15\u001b[0m \u001b[0moptimizer\u001b[0m \u001b[0;34m=\u001b[0m \u001b[0moptim\u001b[0m\u001b[0;34m.\u001b[0m\u001b[0mAdam\u001b[0m\u001b[0;34m(\u001b[0m\u001b[0mnet\u001b[0m\u001b[0;34m.\u001b[0m\u001b[0mparameters\u001b[0m\u001b[0;34m(\u001b[0m\u001b[0;34m)\u001b[0m\u001b[0;34m,\u001b[0m \u001b[0mlr\u001b[0m\u001b[0;34m=\u001b[0m\u001b[0mlearning_rate\u001b[0m\u001b[0;34m)\u001b[0m \u001b[0;31m### QUIZAS NO ES UN PARAMETRo DE ENTRADA!\u001b[0m\u001b[0;34m\u001b[0m\u001b[0;34m\u001b[0m\u001b[0m\n\u001b[1;32m     16\u001b[0m \u001b[0mstart\u001b[0m \u001b[0;34m=\u001b[0m \u001b[0;36m0\u001b[0m\u001b[0;34m\u001b[0m\u001b[0;34m\u001b[0m\u001b[0m\n",
      "\u001b[0;31mNameError\u001b[0m: name 'net1' is not defined"
     ]
    }
   ],
   "source": [
    "from model import Model\n",
    "from autoencoder import Autoencoder2 as net2\n",
    "import torch.nn as nn\n",
    "import torch.optim as optim\n",
    "import cupy as cp\n",
    "from auxiliaryFunctions import AuxiliaryFunctions\n",
    "\n",
    "net_name = 'net_2'\n",
    "device = 0\n",
    "size_figure = 28\n",
    "\n",
    "learning_rate = 1e-3 \n",
    "criterion = nn.MSELoss() ## definir si esto va a variar o fijarlo! \n",
    "net = net2(size = size_figure,device = device)  \n",
    "optimizer = optim.Adam(net.parameters(), lr=learning_rate) ### QUIZAS NO ES UN PARAMETRo DE ENTRADA! \n",
    "start = 0 \n",
    "\n",
    "type_psf_gauss = 'psf_gauss_'+str(size_figure)+'x'+str(size_figure)\n",
    "type_psf_real = 'psf_real_'+str(size_figure)+'x'+str(size_figure)\n",
    "\n",
    "\n",
    "\n",
    "datasets = [1000,5000,10000,100000,1000000]     \n",
    "# Dejar esto fijo ##\n",
    "batchs = [10,50,100]\n",
    "epochs = [10,30,50]\n",
    "types =  [type_psf_gauss,type_psf_real]\n",
    "#######################\n",
    "size_save = 1\n",
    "index = 0 \n",
    "\n",
    "for stop in datasets:\n",
    "    for batch_train in batchs:\n",
    "        for num_epochs in epochs:\n",
    "            for type_psf in types:\n",
    "                index = index +1\n",
    "                print('modelo '+str(index)+':')\n",
    "                m = Model(size_figure = size_figure,\n",
    "                                    type_psf = type_psf,\n",
    "                                    num_epochs = num_epochs,\n",
    "                                    learning_rate =  learning_rate , \n",
    "                                    batch_train = batch_train ,\n",
    "                                    start = start,\n",
    "                                    stop = stop,\n",
    "                                    criterion = criterion,\n",
    "                                    optimizer = optimizer,\n",
    "                                    device = device,\n",
    "                                    net_name = net_name\n",
    "                ) \n",
    "                net = m.run_train_data(net = net,start = 0 , stop = stop)\n",
    "                net = m.run_test_data(net = net,start = 0, stop = stop,size_save = size_save)\n",
    "                m.get_resumen(net= net,idx = 0)\n"
   ]
  },
  {
   "cell_type": "code",
   "execution_count": null,
   "id": "9046c594",
   "metadata": {},
   "outputs": [],
   "source": []
  }
 ],
 "metadata": {
  "kernelspec": {
   "display_name": "Python 3",
   "language": "python",
   "name": "python3"
  },
  "language_info": {
   "codemirror_mode": {
    "name": "ipython",
    "version": 3
   },
   "file_extension": ".py",
   "mimetype": "text/x-python",
   "name": "python",
   "nbconvert_exporter": "python",
   "pygments_lexer": "ipython3",
   "version": "3.9.2"
  }
 },
 "nbformat": 4,
 "nbformat_minor": 5
}
