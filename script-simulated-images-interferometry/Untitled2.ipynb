{
 "cells": [
  {
   "cell_type": "code",
   "execution_count": null,
   "id": "fa1d6839",
   "metadata": {},
   "outputs": [],
   "source": [
    "from simulator import Simulator\n",
    "Simulator.create_save(size = 640,start = 0,stop = 10,step = 10, device = 0)"
   ]
  },
  {
   "cell_type": "code",
   "execution_count": null,
   "id": "88fa769e",
   "metadata": {},
   "outputs": [],
   "source": []
  }
 ],
 "metadata": {
  "kernelspec": {
   "display_name": "Python 3",
   "language": "python",
   "name": "python3"
  },
  "language_info": {
   "codemirror_mode": {
    "name": "ipython",
    "version": 3
   },
   "file_extension": ".py",
   "mimetype": "text/x-python",
   "name": "python",
   "nbconvert_exporter": "python",
   "pygments_lexer": "ipython3",
   "version": "3.9.2"
  }
 },
 "nbformat": 4,
 "nbformat_minor": 5
}
