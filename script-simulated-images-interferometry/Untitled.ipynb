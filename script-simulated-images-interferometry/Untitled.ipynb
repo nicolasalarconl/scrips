{
 "cells": [
  {
   "cell_type": "code",
   "execution_count": null,
   "id": "41fd7512",
   "metadata": {},
   "outputs": [
    {
     "name": "stderr",
     "output_type": "stream",
     "text": [
      "WARNING: AstropyDeprecationWarning: \"clobber\" was deprecated in version 2.0 and will be removed in a future version. Use argument \"overwrite\" instead. [datasetPSF]\n"
     ]
    }
   ],
   "source": [
    "from simulator import Simulator\n",
    "Simulator.create_save(size = 640,start = 3000,stop = 10000,step = 1000, device = 1)"
   ]
  },
  {
   "cell_type": "code",
   "execution_count": null,
   "id": "9d5ab1bb",
   "metadata": {},
   "outputs": [],
   "source": []
  }
 ],
 "metadata": {
  "kernelspec": {
   "display_name": "Python 3",
   "language": "python",
   "name": "python3"
  },
  "language_info": {
   "codemirror_mode": {
    "name": "ipython",
    "version": 3
   },
   "file_extension": ".py",
   "mimetype": "text/x-python",
   "name": "python",
   "nbconvert_exporter": "python",
   "pygments_lexer": "ipython3",
   "version": "3.9.2"
  }
 },
 "nbformat": 4,
 "nbformat_minor": 5
}
