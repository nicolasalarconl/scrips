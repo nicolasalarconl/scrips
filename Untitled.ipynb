{
 "cells": [
  {
   "cell_type": "code",
   "execution_count": null,
   "id": "b53f13d2",
   "metadata": {},
   "outputs": [],
   "source": [
    "params = ParamsEllipses(size)\n",
    "            dataset = DatasetImages(size)\n",
    "            dataset.save(size_image =params.size_figure, params = params,start = index,finish =index+step)\n",
    "            \n",
    "            type_psf = 'psf_gauss_'+str(params.size_figure)+'x'+str(params.size_figure)\n",
    "            psf_gauss = self.psf_gauss(params.size_figure,params.size_figure)\n",
    "            psf = DatasetPSF(size,type_psf)\n",
    "            psf.save(size_image=params.size_figure,type_psf=type_psf,psf= psf_gauss)\n",
    "            psf_gauss = psf.image\n",
    "        \n",
    "            images = dataset.read(params.size_figure,start = index,finish =index+step)\n",
    "            dirty_gauss = DatasetDirty(size,type_psf)\n",
    "            dirty_gauss.save(images,params.size_figure,type_psf,psf_gauss,start = index ,finish = index+step)\n",
    "        \n",
    "            type_psf = 'psf_real_'+str(params.size_figure)+'x'+str(params.size_figure)\n",
    "            psf_real = self.psf_real(params.size_figure)\n",
    "            psf = DatasetPSF(size,type_psf)\n",
    "            psf.save(size_image=params.size_figure,type_psf=type_psf,psf= psf_real)\n",
    "            psf_real = psf.image \n",
    "         \n",
    "            dirty_gauss = DatasetDirty(size,type_psf)\n",
    "            dirty_gauss.save(images,params.size_figure,type_psf,psf_gauss,start = index ,finish = index+step)\n"
   ]
  }
 ],
 "metadata": {
  "kernelspec": {
   "display_name": "Python 3",
   "language": "python",
   "name": "python3"
  },
  "language_info": {
   "codemirror_mode": {
    "name": "ipython",
    "version": 3
   },
   "file_extension": ".py",
   "mimetype": "text/x-python",
   "name": "python",
   "nbconvert_exporter": "python",
   "pygments_lexer": "ipython3",
   "version": "3.9.2"
  }
 },
 "nbformat": 4,
 "nbformat_minor": 5
}
